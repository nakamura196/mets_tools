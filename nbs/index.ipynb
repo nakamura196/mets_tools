{
 "cells": [
  {
   "cell_type": "code",
   "execution_count": null,
   "metadata": {},
   "outputs": [
    {
     "name": "stdout",
     "output_type": "stream",
     "text": [
      "The autoreload extension is already loaded. To reload it, use:\n",
      "  %reload_ext autoreload\n"
     ]
    }
   ],
   "source": [
    "#| hide\n",
    "%load_ext autoreload\n",
    "%autoreload 2"
   ]
  },
  {
   "cell_type": "markdown",
   "metadata": {},
   "source": [
    "# mets_tools\n",
    "\n",
    "> "
   ]
  },
  {
   "cell_type": "markdown",
   "metadata": {},
   "source": [
    "Human-Friendly Exploration Tool for Archivematica METS Files\n",
    "\n",
    "This tool is based on [METSFlask by Tim Walsh](https://github.com/tw4l/METSFlask).\n",
    "\n",
    "METSFlask provides a foundation for interacting with and visualizing METS (Metadata Encoding and Transmission Standard) files. Building on this work, this tool offers additional features designed specifically for exploring and understanding Archivematica METS files, with a focus on accessibility and user-friendly navigation."
   ]
  },
  {
   "cell_type": "markdown",
   "metadata": {},
   "source": [
    "## Usage"
   ]
  },
  {
   "cell_type": "markdown",
   "metadata": {},
   "source": [
    "### Installation"
   ]
  },
  {
   "cell_type": "markdown",
   "metadata": {},
   "source": []
  },
  {
   "cell_type": "markdown",
   "metadata": {},
   "source": [
    "Install latest from the GitHub [repository][repo]:\n",
    "\n",
    "```sh\n",
    "$ pip install git+https://github.com/nakamura196/mets_tools.git\n",
    "```\n",
    "\n",
    "\n",
    "[repo]: https://github.com/nakamura196/mets_tools\n",
    "[docs]: https://nakamura196.github.io/mets_tools/\n",
    "[pypi]: https://pypi.org/project/mets_tools/\n",
    "[conda]: https://anaconda.org/nakamura196/mets_tools"
   ]
  },
  {
   "cell_type": "markdown",
   "metadata": {},
   "source": [
    "### Documentation"
   ]
  },
  {
   "cell_type": "markdown",
   "metadata": {},
   "source": [
    "Documentation can be found hosted on this GitHub [repository][repo]'s [pages][docs].\n",
    "\n",
    "[repo]: https://github.com/nakamura196/mets_tools\n",
    "[docs]: https://nakamura196.github.io/mets_tools/\n",
    "[pypi]: https://pypi.org/project/mets_tools/\n",
    "[conda]: https://anaconda.org/nakamura196/mets_tools"
   ]
  },
  {
   "cell_type": "markdown",
   "metadata": {},
   "source": [
    "## How to use"
   ]
  },
  {
   "cell_type": "code",
   "execution_count": null,
   "metadata": {},
   "outputs": [],
   "source": [
    "from mets_tools.core import METSFile\n",
    "\n",
    "local_file = \"./test.xml\"\n",
    "ins = METSFile(local_file)\n",
    "ins.parse_mets()"
   ]
  },
  {
   "cell_type": "markdown",
   "metadata": {},
   "source": [
    "### Original Files"
   ]
  },
  {
   "cell_type": "code",
   "execution_count": null,
   "metadata": {},
   "outputs": [
    {
     "data": {
      "text/html": [
       "<div>\n",
       "<style scoped>\n",
       "    .dataframe tbody tr th:only-of-type {\n",
       "        vertical-align: middle;\n",
       "    }\n",
       "\n",
       "    .dataframe tbody tr th {\n",
       "        vertical-align: top;\n",
       "    }\n",
       "\n",
       "    .dataframe thead th {\n",
       "        text-align: right;\n",
       "    }\n",
       "</style>\n",
       "<table border=\"1\" class=\"dataframe\">\n",
       "  <thead>\n",
       "    <tr style=\"text-align: right;\">\n",
       "      <th></th>\n",
       "      <th>amdsec_id</th>\n",
       "      <th>filepath</th>\n",
       "      <th>uuid</th>\n",
       "      <th>hashtype</th>\n",
       "      <th>hashvalue</th>\n",
       "      <th>bytes</th>\n",
       "      <th>format</th>\n",
       "      <th>version</th>\n",
       "      <th>puid</th>\n",
       "      <th>modified_date</th>\n",
       "      <th>fits_modified_unixtime</th>\n",
       "      <th>filename</th>\n",
       "      <th>size</th>\n",
       "    </tr>\n",
       "  </thead>\n",
       "  <tbody>\n",
       "    <tr>\n",
       "      <th>0</th>\n",
       "      <td>amdSec_2</td>\n",
       "      <td>S001.png</td>\n",
       "      <td>386c4295-64fb-45b9-b5c6-3adfcd7f2bcf</td>\n",
       "      <td>sha256</td>\n",
       "      <td>5288586020b7ff120ad53f94432f719aa0ca1c5e094dc9...</td>\n",
       "      <td>9097282</td>\n",
       "      <td>Portable Network Graphics</td>\n",
       "      <td>1.2</td>\n",
       "      <td>&lt;a href=\"http://nationalarchives.gov.uk/PRONOM...</td>\n",
       "      <td>2024-10-25T03:00:20Z</td>\n",
       "      <td></td>\n",
       "      <td>S001.png</td>\n",
       "      <td>9 MB</td>\n",
       "    </tr>\n",
       "  </tbody>\n",
       "</table>\n",
       "</div>"
      ],
      "text/plain": [
       "  amdsec_id  filepath                                  uuid hashtype  \\\n",
       "0  amdSec_2  S001.png  386c4295-64fb-45b9-b5c6-3adfcd7f2bcf   sha256   \n",
       "\n",
       "                                           hashvalue    bytes  \\\n",
       "0  5288586020b7ff120ad53f94432f719aa0ca1c5e094dc9...  9097282   \n",
       "\n",
       "                      format version  \\\n",
       "0  Portable Network Graphics     1.2   \n",
       "\n",
       "                                                puid         modified_date  \\\n",
       "0  <a href=\"http://nationalarchives.gov.uk/PRONOM...  2024-10-25T03:00:20Z   \n",
       "\n",
       "  fits_modified_unixtime  filename  size  \n",
       "0                         S001.png  9 MB  "
      ]
     },
     "execution_count": null,
     "metadata": {},
     "output_type": "execute_result"
    }
   ],
   "source": [
    "original_files = ins.get_original_files()\n",
    "original_files"
   ]
  },
  {
   "cell_type": "markdown",
   "metadata": {},
   "source": [
    "### File Format Counts"
   ]
  },
  {
   "cell_type": "code",
   "execution_count": null,
   "metadata": {},
   "outputs": [
    {
     "data": {
      "image/png": "[encoded data removed]",
      "text/plain": [
       "<Figure size 800x800 with 1 Axes>"
      ]
     },
     "metadata": {},
     "output_type": "display_data"
    }
   ],
   "source": [
    "ins.visualize_file_format_counts()"
   ]
  },
  {
   "cell_type": "markdown",
   "metadata": {},
   "source": [
    "### File Events Count"
   ]
  },
  {
   "cell_type": "code",
   "execution_count": null,
   "metadata": {},
   "outputs": [
    {
     "data": {
      "image/png": "[encoded data removed]",
      "text/plain": [
       "<Figure size 1000x600 with 1 Axes>"
      ]
     },
     "metadata": {},
     "output_type": "display_data"
    }
   ],
   "source": [
    "ins.visualize_file_events_count()"
   ]
  },
  {
   "cell_type": "markdown",
   "metadata": {},
   "source": [
    "### File Section"
   ]
  },
  {
   "cell_type": "code",
   "execution_count": null,
   "metadata": {},
   "outputs": [
    {
     "data": {
      "text/html": [
       "<div>\n",
       "<style scoped>\n",
       "    .dataframe tbody tr th:only-of-type {\n",
       "        vertical-align: middle;\n",
       "    }\n",
       "\n",
       "    .dataframe tbody tr th {\n",
       "        vertical-align: top;\n",
       "    }\n",
       "\n",
       "    .dataframe thead th {\n",
       "        text-align: right;\n",
       "    }\n",
       "</style>\n",
       "<table border=\"1\" class=\"dataframe\">\n",
       "  <thead>\n",
       "    <tr style=\"text-align: right;\">\n",
       "      <th></th>\n",
       "      <th>USE</th>\n",
       "      <th>File ID</th>\n",
       "      <th>Group ID</th>\n",
       "      <th>ADMID</th>\n",
       "      <th>File Location</th>\n",
       "      <th>LOCTYPE</th>\n",
       "      <th>OTHERLOCTYPE</th>\n",
       "    </tr>\n",
       "  </thead>\n",
       "  <tbody>\n",
       "    <tr>\n",
       "      <th>0</th>\n",
       "      <td>original</td>\n",
       "      <td>file-386c4295-64fb-45b9-b5c6-3adfcd7f2bcf</td>\n",
       "      <td>Group-386c4295-64fb-45b9-b5c6-3adfcd7f2bcf</td>\n",
       "      <td>amdSec_2</td>\n",
       "      <td>objects/S001.png</td>\n",
       "      <td>OTHER</td>\n",
       "      <td>SYSTEM</td>\n",
       "    </tr>\n",
       "    <tr>\n",
       "      <th>1</th>\n",
       "      <td>submissionDocumentation</td>\n",
       "      <td>file-f6acdbb3-095f-4771-8fd9-8c5b74e296ec</td>\n",
       "      <td>Group-f6acdbb3-095f-4771-8fd9-8c5b74e296ec</td>\n",
       "      <td>amdSec_5</td>\n",
       "      <td>objects/submissionDocumentation/transfer-png-c...</td>\n",
       "      <td>OTHER</td>\n",
       "      <td>SYSTEM</td>\n",
       "    </tr>\n",
       "    <tr>\n",
       "      <th>2</th>\n",
       "      <td>preservation</td>\n",
       "      <td>file-6f93b80d-fb6d-41b6-819e-b9bc3ad085e6</td>\n",
       "      <td>Group-386c4295-64fb-45b9-b5c6-3adfcd7f2bcf</td>\n",
       "      <td>amdSec_1</td>\n",
       "      <td>objects/S001-6f93b80d-fb6d-41b6-819e-b9bc3ad08...</td>\n",
       "      <td>OTHER</td>\n",
       "      <td>SYSTEM</td>\n",
       "    </tr>\n",
       "    <tr>\n",
       "      <th>3</th>\n",
       "      <td>text/ocr</td>\n",
       "      <td>file-bd353cfc-64aa-4f48-af61-4a4d8ee3a55b</td>\n",
       "      <td>Group-386c4295-64fb-45b9-b5c6-3adfcd7f2bcf</td>\n",
       "      <td>amdSec_3</td>\n",
       "      <td>objects/metadata/OCRfiles/S001-386c4295-64fb-4...</td>\n",
       "      <td>OTHER</td>\n",
       "      <td>SYSTEM</td>\n",
       "    </tr>\n",
       "    <tr>\n",
       "      <th>4</th>\n",
       "      <td>metadata</td>\n",
       "      <td>file-d8aa2e08-71bd-4852-9d87-e6eba354affb</td>\n",
       "      <td>Group-d8aa2e08-71bd-4852-9d87-e6eba354affb</td>\n",
       "      <td>amdSec_4</td>\n",
       "      <td>objects/metadata/transfers/png-c4688ddd-8bb7-4...</td>\n",
       "      <td>OTHER</td>\n",
       "      <td>SYSTEM</td>\n",
       "    </tr>\n",
       "  </tbody>\n",
       "</table>\n",
       "</div>"
      ],
      "text/plain": [
       "                       USE                                    File ID  \\\n",
       "0                 original  file-386c4295-64fb-45b9-b5c6-3adfcd7f2bcf   \n",
       "1  submissionDocumentation  file-f6acdbb3-095f-4771-8fd9-8c5b74e296ec   \n",
       "2             preservation  file-6f93b80d-fb6d-41b6-819e-b9bc3ad085e6   \n",
       "3                 text/ocr  file-bd353cfc-64aa-4f48-af61-4a4d8ee3a55b   \n",
       "4                 metadata  file-d8aa2e08-71bd-4852-9d87-e6eba354affb   \n",
       "\n",
       "                                     Group ID     ADMID  \\\n",
       "0  Group-386c4295-64fb-45b9-b5c6-3adfcd7f2bcf  amdSec_2   \n",
       "1  Group-f6acdbb3-095f-4771-8fd9-8c5b74e296ec  amdSec_5   \n",
       "2  Group-386c4295-64fb-45b9-b5c6-3adfcd7f2bcf  amdSec_1   \n",
       "3  Group-386c4295-64fb-45b9-b5c6-3adfcd7f2bcf  amdSec_3   \n",
       "4  Group-d8aa2e08-71bd-4852-9d87-e6eba354affb  amdSec_4   \n",
       "\n",
       "                                       File Location LOCTYPE OTHERLOCTYPE  \n",
       "0                                   objects/S001.png   OTHER       SYSTEM  \n",
       "1  objects/submissionDocumentation/transfer-png-c...   OTHER       SYSTEM  \n",
       "2  objects/S001-6f93b80d-fb6d-41b6-819e-b9bc3ad08...   OTHER       SYSTEM  \n",
       "3  objects/metadata/OCRfiles/S001-386c4295-64fb-4...   OTHER       SYSTEM  \n",
       "4  objects/metadata/transfers/png-c4688ddd-8bb7-4...   OTHER       SYSTEM  "
      ]
     },
     "execution_count": null,
     "metadata": {},
     "output_type": "execute_result"
    }
   ],
   "source": [
    "df = ins.parse_file_sec()\n",
    "df"
   ]
  },
  {
   "cell_type": "markdown",
   "metadata": {},
   "source": [
    "### Structure Map"
   ]
  },
  {
   "cell_type": "code",
   "execution_count": null,
   "metadata": {},
   "outputs": [
    {
     "name": "stdout",
     "output_type": "stream",
     "text": [
      "StructMap (TYPE: physical, LABEL: Archivematica default)\n",
      "└── Directory: png-e5e48d8a-421a-461d-8e55-468bf37253a8\n",
      "    └── Directory: objects\n",
      "        ├── Item: S001.png\n",
      "        ├── Item: S001-6f93b80d-fb6d-41b6-819e-b9bc3ad085e6.tif\n",
      "        ├── Directory: submissionDocumentation\n",
      "        │   └── Directory: transfer-png-c4688ddd-8bb7-4593-b4bf-f4302ea6882c\n",
      "        │       └── Item: METS.xml\n",
      "        └── Directory: metadata\n",
      "            ├── Directory: OCRfiles\n",
      "            │   └── Item: S001-386c4295-64fb-45b9-b5c6-3adfcd7f2bcf.txt\n",
      "            └── Directory: transfers\n",
      "                └── Directory: png-c4688ddd-8bb7-4593-b4bf-f4302ea6882c\n",
      "                    └── Item: directory_tree.txt\n",
      "StructMap (TYPE: logical, LABEL: Normative Directory Structure)\n",
      "└── Directory: png-e5e48d8a-421a-461d-8e55-468bf37253a8\n",
      "    └── Directory: objects\n",
      "        ├── Item: S001.png\n",
      "        ├── Item: S001-6f93b80d-fb6d-41b6-819e-b9bc3ad085e6.tif\n",
      "        ├── Directory: submissionDocumentation\n",
      "        │   └── Directory: transfer-png-c4688ddd-8bb7-4593-b4bf-f4302ea6882c\n",
      "        │       └── Item: METS.xml\n",
      "        └── Directory: metadata\n",
      "            ├── Directory: OCRfiles\n",
      "            │   └── Item: S001-386c4295-64fb-45b9-b5c6-3adfcd7f2bcf.txt\n",
      "            └── Directory: transfers\n",
      "                └── Directory: png-c4688ddd-8bb7-4593-b4bf-f4302ea6882c\n",
      "                    └── Item: directory_tree.txt\n"
     ]
    }
   ],
   "source": [
    "ins.visualize_structMap()"
   ]
  },
  {
   "cell_type": "markdown",
   "metadata": {},
   "source": [
    "### File Changes"
   ]
  },
  {
   "cell_type": "code",
   "execution_count": null,
   "metadata": {},
   "outputs": [
    {
     "name": "stdout",
     "output_type": "stream",
     "text": [
      "ファイル名の変更は見つかりませんでした。\n"
     ]
    }
   ],
   "source": [
    "ins.show_file_changes()"
   ]
  }
 ],
 "metadata": {
  "kernelspec": {
   "display_name": "python3",
   "language": "python",
   "name": "python3"
  }
 },
 "nbformat": 4,
 "nbformat_minor": 4
}
